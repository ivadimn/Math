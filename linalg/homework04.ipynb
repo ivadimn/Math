{
 "cells": [
  {
   "cell_type": "markdown",
   "metadata": {},
   "source": [
    "__1.__ Решить систему уравнений методом Гаусса:\n",
    "\n",
    "$$\\begin{cases}\n",
    "x_{1}+x_{2}-x_{3}-2x_{4}=0, \\\\\n",
    "2x_{1}+x_{2}-x_{3}+x_{4}=-2, \\\\\n",
    "x_{1}+x_{2}-3x_{3}+x_{4}=4.\n",
    "\\end{cases}$$"
   ]
  },
  {
   "cell_type": "code",
   "execution_count": 1,
   "metadata": {},
   "outputs": [],
   "source": [
    "import numpy as np"
   ]
  },
  {
   "cell_type": "markdown",
   "metadata": {},
   "source": [
    "$\\begin{pmatrix}\n",
    "\\left.\\begin{matrix}\n",
    "1 & 1 & -1 & -2\\\\ \n",
    "2 & 1 & -1 &  1\\\\ \n",
    "1 & 1 & -3 &  1\n",
    "\\end{matrix}\\right|\n",
    "\\begin{matrix}\n",
    "0\\\\ \n",
    "-2\\\\\n",
    "4\n",
    "\\end{matrix}\n",
    "\\end{pmatrix}$\n",
    "после преобразований получаем\n",
    "$\\begin{pmatrix}\n",
    "\\left.\\begin{matrix}\n",
    "1 &  1 & -1 & -2\\\\ \n",
    "0 & -1 &  1 &  5\\\\ \n",
    "0 &  0 & -2 &  3\n",
    "\\end{matrix}\\right|\n",
    "\\begin{matrix}\n",
    " 0\\\\ \n",
    "-2\\\\\n",
    " 4\n",
    "\\end{matrix}\n",
    "\\end{pmatrix}$<br><br>\n",
    "выражаем всё через $x_{4}$<br>\n",
    "$x_{3} = \\frac{3x_{4} - 4}{2}$<br>\n",
    "$x_{2} = \\frac{13x_{4}}{2}$<br>\n",
    "$x_{1} = -\\frac{{10x_{4} + 4}}{{2}}$<br>\n",
    "\n",
    "полагаем $x_{4} = t$ тогда<br>\n",
    "\n",
    "$x_{3} = \\frac{3t - 4}{2}$<br>\n",
    "$x_{2} = \\frac{13t}{2}$<br>\n",
    "$x_{1} = -\\frac{{6t + 4}}{{2}}$<br>"
   ]
  },
  {
   "cell_type": "code",
   "execution_count": 9,
   "metadata": {},
   "outputs": [
    {
     "data": {
      "text/plain": [
       "array([[ 1,  1, -1, -2],\n",
       "       [ 2,  1, -1,  1],\n",
       "       [ 1,  1, -3,  1]])"
      ]
     },
     "execution_count": 9,
     "metadata": {},
     "output_type": "execute_result"
    }
   ],
   "source": [
    "#проверим\n",
    "A = np.array([[1, 1, -1, -2], [2, 1, -1, 1], [1, 1, -3, 1]])\n",
    "A"
   ]
  },
  {
   "cell_type": "code",
   "execution_count": 25,
   "metadata": {},
   "outputs": [
    {
     "data": {
      "text/plain": [
       "array([[-8.],\n",
       "       [13.],\n",
       "       [ 1.],\n",
       "       [ 2.]])"
      ]
     },
     "execution_count": 25,
     "metadata": {},
     "output_type": "execute_result"
    }
   ],
   "source": [
    "#возьмём\n",
    "t = 2\n",
    "x3 = (3 * t - 4) / 2\n",
    "x2 = (13 * t) / 2\n",
    "x1 = -((6 * t + 4) / 2)\n",
    "x = np.array([[x1], [x2], [x3], [t]])\n",
    "x"
   ]
  },
  {
   "cell_type": "code",
   "execution_count": 26,
   "metadata": {},
   "outputs": [
    {
     "data": {
      "text/plain": [
       "array([[ 0.],\n",
       "       [-2.],\n",
       "       [ 4.]])"
      ]
     },
     "execution_count": 26,
     "metadata": {},
     "output_type": "execute_result"
    }
   ],
   "source": [
    "b = np.dot(A, x)\n",
    "b"
   ]
  },
  {
   "cell_type": "markdown",
   "metadata": {},
   "source": [
    "Получается, система уравнений имеет бесконечное множество решений."
   ]
  },
  {
   "cell_type": "markdown",
   "metadata": {},
   "source": [
    "__2.__ Проверить на совместность и выяснить, сколько решений будет иметь система линейных уравнений:\n",
    "\n",
    "   а) $\\begin{cases}\n",
    "3x_{1}-x_{2}+x_{3}=4, \\\\\n",
    "2x_{1}-5x_{2}-3x_{3}=-17, \\\\\n",
    "x_{1}+x_{2}-x_{3}=0;\n",
    "\\end{cases}$\n",
    "    \n",
    "   б) $\\begin{cases}\n",
    "2x_{1}-4x_{2}+6x_{3}=1, \\\\\n",
    "x_{1}-2x_{2}+3x_{3}=-2, \\\\\n",
    "3x_{1}-6x_{2}+9x_{3}=5;\n",
    "\\end{cases}$\n",
    "    \n",
    "   в) $\\begin{cases}\n",
    "x_{1}+2x_{2}+5x_{3}=4, \\\\\n",
    "3x_{1}+x_{2}-8x_{3}=-2. \n",
    "\\end{cases}$"
   ]
  },
  {
   "cell_type": "code",
   "execution_count": null,
   "metadata": {},
   "outputs": [],
   "source": [
    "#первая система\n",
    "A1 = np.array([[3, -1, 1],[2, -5, -3], [1, 1, -1]])\n",
    "A1"
   ]
  },
  {
   "cell_type": "code",
   "execution_count": 30,
   "metadata": {},
   "outputs": [
    {
     "data": {
      "text/plain": [
       "32.0"
      ]
     },
     "execution_count": 30,
     "metadata": {},
     "output_type": "execute_result"
    }
   ],
   "source": [
    "#найдём определитель\n",
    "detA1 = np.linalg.det(A1)\n",
    "detA1"
   ]
  },
  {
   "cell_type": "markdown",
   "metadata": {},
   "source": [
    "Определитель больше нуля значит система имеет хотя бы одно решение значит она СОВМЕСТНА\n",
    "Так число неизвестных равно размерности матрицы коэффициэнтов то решение единственное:<br>\n",
    "$x_{1} = 1, x_{2} = 2, x_{3} = 3$"
   ]
  },
  {
   "cell_type": "code",
   "execution_count": 36,
   "metadata": {},
   "outputs": [
    {
     "data": {
      "text/plain": [
       "array([[  4],\n",
       "       [-17],\n",
       "       [  0]])"
      ]
     },
     "execution_count": 36,
     "metadata": {},
     "output_type": "execute_result"
    }
   ],
   "source": [
    "#проверим\n",
    "x = np.array([[1], [2], [3]])\n",
    "b = np.dot(A1, x)\n",
    "b"
   ]
  },
  {
   "cell_type": "markdown",
   "metadata": {},
   "source": [
    "получилось!"
   ]
  },
  {
   "cell_type": "markdown",
   "metadata": {},
   "source": [
    " б) $\\begin{cases}\n",
    "2x_{1}-4x_{2}+6x_{3}=1, \\\\\n",
    "x_{1}-2x_{2}+3x_{3}=-2, \\\\\n",
    "3x_{1}-6x_{2}+9x_{3}=5;\n",
    "\\end{cases}$"
   ]
  },
  {
   "cell_type": "markdown",
   "metadata": {},
   "source": [
    "Здесь определитель можно не считать ( = 0), строки и столбцы матрицы - линейно зависимы.\n",
    "Система НЕСОВМЕСТНА так как не имеет ни одного решения (если бы была однородной имела бы одно решение - нулевое)."
   ]
  },
  {
   "cell_type": "markdown",
   "metadata": {},
   "source": [
    " в) $\\begin{cases}\n",
    "x_{1}+2x_{2}+5x_{3}=4, \\\\\n",
    "3x_{1}+x_{2}-8x_{3}=-2. \n",
    "\\end{cases}$"
   ]
  },
  {
   "cell_type": "code",
   "execution_count": 48,
   "metadata": {},
   "outputs": [
    {
     "data": {
      "text/plain": [
       "array([[ 1,  2,  5],\n",
       "       [ 3,  1, -8]])"
      ]
     },
     "execution_count": 48,
     "metadata": {},
     "output_type": "execute_result"
    }
   ],
   "source": [
    "#третья система\n",
    "A3 = np.array([[1, 2, 5],[3, 1, -8]])\n",
    "A3"
   ]
  },
  {
   "cell_type": "code",
   "execution_count": 51,
   "metadata": {},
   "outputs": [
    {
     "data": {
      "text/plain": [
       "array([[-1.6],\n",
       "       [ 2.8],\n",
       "       [ 0. ]])"
      ]
     },
     "execution_count": 51,
     "metadata": {},
     "output_type": "execute_result"
    }
   ],
   "source": [
    "t = 0\n",
    "x3 = t\n",
    "x2 = (14 - 23 * t) / 5\n",
    "x1 = 4 - ((28 - 21*t) / 5)\n",
    "x = np.array([[x1], [x2], [x3]])\n",
    "x"
   ]
  },
  {
   "cell_type": "code",
   "execution_count": 52,
   "metadata": {},
   "outputs": [
    {
     "data": {
      "text/plain": [
       "array([[ 4.],\n",
       "       [-2.]])"
      ]
     },
     "execution_count": 52,
     "metadata": {},
     "output_type": "execute_result"
    }
   ],
   "source": [
    "b = np.dot(A3, x)\n",
    "b"
   ]
  },
  {
   "cell_type": "markdown",
   "metadata": {},
   "source": [
    "Система СОВМЕСТНА и имеет бесконечное множество решений"
   ]
  },
  {
   "cell_type": "markdown",
   "metadata": {},
   "source": [
    "_3.__ Проверить на совместность и выяснить, сколько решений будет иметь система линейных уравнений, заданная расширенной матрицей\n",
    "\n",
    "$$\\tilde{A}=\\begin{pmatrix}\n",
    "\\left.\\begin{matrix}\n",
    "1 & 3 & -2 & 4\\\\ \n",
    "0 & 5 & 0 & 1\\\\ \n",
    "0 & 0 & 3 & 0\\\\ \n",
    "0 & 0 & 0 & 2\n",
    "\\end{matrix}\\right|\n",
    "\\begin{matrix}\n",
    "3\\\\ \n",
    "2\\\\\n",
    "4\\\\\n",
    "1\n",
    "\\end{matrix}\n",
    "\\end{pmatrix}.$$"
   ]
  },
  {
   "cell_type": "markdown",
   "metadata": {},
   "source": [
    "Применим терему Кронекера- Капелли"
   ]
  },
  {
   "cell_type": "code",
   "execution_count": 59,
   "metadata": {},
   "outputs": [],
   "source": [
    "A = np.array([[1, 3, -2, 4], [0, 5, 0, 1], [0, 0, 3, 0],[0, 0, 0, 2]])\n",
    "Aex = np.array([[1, 3, -2, 4, 3], [0, 5, 0, 1, 2], [0, 0, 3, 0, 4],[0, 0, 0, 2, 1]])"
   ]
  },
  {
   "cell_type": "code",
   "execution_count": 60,
   "metadata": {},
   "outputs": [
    {
     "data": {
      "text/plain": [
       "4"
      ]
     },
     "execution_count": 60,
     "metadata": {},
     "output_type": "execute_result"
    }
   ],
   "source": [
    "n = 4\n",
    "rankA = np.linalg.matrix_rank(A)\n",
    "rankA"
   ]
  },
  {
   "cell_type": "code",
   "execution_count": 61,
   "metadata": {},
   "outputs": [
    {
     "data": {
      "text/plain": [
       "4"
      ]
     },
     "execution_count": 61,
     "metadata": {},
     "output_type": "execute_result"
    }
   ],
   "source": [
    "rankAex = np.linalg.matrix_rank(Aex)\n",
    "rankAex"
   ]
  },
  {
   "cell_type": "markdown",
   "metadata": {},
   "source": [
    "$rankA=rankAex=n$, и $n$ это число неизвестных, в этом случае система имеет единственное решение и значит она СОВМЕСТНА ;<br>"
   ]
  },
  {
   "cell_type": "markdown",
   "metadata": {},
   "source": [
    "__4.__ Дана система линейных уравнений, заданная расширенной матрицей\n",
    "\n",
    "$$\\tilde{A}=\\begin{pmatrix}\n",
    "\\left.\\begin{matrix}\n",
    "1 & 2 & 3\\\\ \n",
    "4 & 5 & 6\\\\ \n",
    "7 & 8 & 9\n",
    "\\end{matrix}\\right|\n",
    "\\begin{matrix}\n",
    "a\\\\ \n",
    "b\\\\\n",
    "c\n",
    "\\end{matrix}\n",
    "\\end{pmatrix}.$$\n",
    "\n",
    "Найти соотношение между параметрами $a$, $b$ и $c$, при которых система является несовместной."
   ]
  },
  {
   "cell_type": "markdown",
   "metadata": {},
   "source": [
    "Система будет несовмествной при любых $a$, $b$ и $c$ одновременно не равных нулю."
   ]
  },
  {
   "cell_type": "markdown",
   "metadata": {},
   "source": [
    "__1.__ Решить систему уравнений методом Крамера:\n",
    "\n",
    "   а) $\\begin{cases}\n",
    "x_{1}-2x_{2}=1 \\\\\n",
    "3x_{1}-4x_{2}=7\n",
    "\\end{cases}$\n",
    "    \n",
    "   б) $\\begin{cases}\n",
    "2x_{1}-x_{2}+5x_{3}=10 \\\\\n",
    "x_{1}+x_{2}-3x_{3}=-2 \\\\\n",
    "2x_{1}+4x_{2}+x_{3}=1\n",
    "\\end{cases}$\n",
    "\n",
    "\n",
    "__5*.__ Написать на Python программу с реализацией одного из изученных алгоритмов решения СЛАУ."
   ]
  },
  {
   "cell_type": "markdown",
   "metadata": {},
   "source": [
    "__1.__ Решить систему уравнений методом Крамера:\n",
    "\n",
    "   а) $\\begin{cases}\n",
    "x_{1}-2x_{2}=1 \\\\\n",
    "3x_{1}-4x_{2}=7\n",
    "\\end{cases}$\n",
    "    \n",
    "   б) $\\begin{cases}\n",
    "2x_{1}-x_{2}+5x_{3}=10 \\\\\n",
    "x_{1}+x_{2}-3x_{3}=-2 \\\\\n",
    "2x_{1}+4x_{2}+x_{3}=1\n",
    "\\end{cases}$"
   ]
  },
  {
   "cell_type": "markdown",
   "metadata": {},
   "source": [
    "Метод Крамера:\n",
    "Для системы с $n$ уравнениями и $n$ неизвестными, если система уравнений невырождена (то есть $detA\\neq 0$), то система определена, то есть имеет единственное решение, и это решение может быть найдено по формулам Крамера:\n",
    "\n",
    "$$x_{i}=\\frac{detA_{i}}{detA},$$\n",
    "\n",
    "где $A_{i}$ — это матрица, получаемая заменой $i$-го столбца на вектор-столбец свободных членов $b$."
   ]
  },
  {
   "cell_type": "markdown",
   "metadata": {},
   "source": [
    "а) $\\begin{cases}\n",
    "x_{1}-2x_{2}=1 \\\\\n",
    "3x_{1}-4x_{2}=7\n",
    "\\end{cases}$"
   ]
  },
  {
   "cell_type": "code",
   "execution_count": 84,
   "metadata": {},
   "outputs": [
    {
     "data": {
      "text/plain": [
       "2.0000000000000004"
      ]
     },
     "execution_count": 84,
     "metadata": {},
     "output_type": "execute_result"
    }
   ],
   "source": [
    "A = np.array([[1, -2], [3, -4]])\n",
    "detA = np.linalg.det(A)\n",
    "detA"
   ]
  },
  {
   "cell_type": "code",
   "execution_count": 86,
   "metadata": {},
   "outputs": [
    {
     "data": {
      "text/plain": [
       "9.999999999999998"
      ]
     },
     "execution_count": 86,
     "metadata": {},
     "output_type": "execute_result"
    }
   ],
   "source": [
    "#определитель не равен 0 - можно продолжать\n",
    "A1 = np.array([[1, -2], [7, -4]])\n",
    "detA1 = np.linalg.det(A1)\n",
    "detA1"
   ]
  },
  {
   "cell_type": "code",
   "execution_count": 88,
   "metadata": {},
   "outputs": [
    {
     "data": {
      "text/plain": [
       "4.0"
      ]
     },
     "execution_count": 88,
     "metadata": {},
     "output_type": "execute_result"
    }
   ],
   "source": [
    "A2 = np.array([[1, 1], [3, 7]])\n",
    "detA2 = np.linalg.det(A2)\n",
    "detA2"
   ]
  },
  {
   "cell_type": "code",
   "execution_count": 89,
   "metadata": {},
   "outputs": [
    {
     "name": "stdout",
     "output_type": "stream",
     "text": [
      "4.999999999999998 1.9999999999999996\n"
     ]
    }
   ],
   "source": [
    "x1 = detA1 / detA\n",
    "x2 = detA2 / detA\n",
    "print(x1, x2)"
   ]
  },
  {
   "cell_type": "code",
   "execution_count": 90,
   "metadata": {},
   "outputs": [
    {
     "data": {
      "text/plain": [
       "array([[1.],\n",
       "       [7.]])"
      ]
     },
     "execution_count": 90,
     "metadata": {},
     "output_type": "execute_result"
    }
   ],
   "source": [
    "#проверим\n",
    "x = np.array([[x1], [x2]])\n",
    "b = np.dot(A, x)\n",
    "b"
   ]
  },
  {
   "cell_type": "markdown",
   "metadata": {},
   "source": [
    "заавтоматизируем метод Крамера"
   ]
  },
  {
   "cell_type": "code",
   "execution_count": 95,
   "metadata": {},
   "outputs": [],
   "source": [
    "def matrix_low(a: list, ii: int, jj: int):\n",
    "    n = len(a)\n",
    "    al = [[0 for _ in range(n - 1)] for _ in range(n - 1)]\n",
    "    k = 0\n",
    "    for i in range(n):\n",
    "        if i == ii:\n",
    "            continue\n",
    "        p = 0\n",
    "        for j in range(n):\n",
    "            if j == jj:\n",
    "                continue\n",
    "            al[k][p] = a[i][j]\n",
    "            p += 1\n",
    "        k += 1\n",
    "    return al\n",
    "\n",
    "\n",
    "# определитепль\n",
    "def det(a: list):\n",
    "    if len(a) == 2:\n",
    "        return (a[0][0] * a[1][1]) - (a[0][1] * a[1][0])\n",
    "    d = 0\n",
    "    for j in range(len(a)):\n",
    "        d += (-1)**(0 + j) * det(matrix_low(a, 0, j)) * a[0][j]\n",
    "    return d\n",
    "\n",
    "\n",
    "def kramer(a: list, b: list) -> list:\n",
    "    n = len(a)\n",
    "    al = [[a[i][j] for j in range(n)] for i in range(n)]\n",
    "    det_al = det(al)\n",
    "    if det_al == 0:\n",
    "        print(\"Решений нет\")\n",
    "        return None\n",
    "    x = []\n",
    "    for i in range(n):\n",
    "        for j in range(n):\n",
    "            al[j][i] = b[j]\n",
    "        x.append(det(al) / det_al)\n",
    "        for j in range(n):\n",
    "            al[j][i] = a[j][i]\n",
    "    return x"
   ]
  },
  {
   "cell_type": "markdown",
   "metadata": {},
   "source": [
    "б) $\\begin{cases}\n",
    "2x_{1}-x_{2}+5x_{3}=10 \\\\\n",
    "x_{1}+x_{2}-3x_{3}=-2 \\\\\n",
    "2x_{1}+4x_{2}+x_{3}=1\n",
    "\\end{cases}$"
   ]
  },
  {
   "cell_type": "code",
   "execution_count": 100,
   "metadata": {},
   "outputs": [],
   "source": [
    "#проверим Крамера\n",
    "A = [[2, -1, 5], [1, 1, -3], [2, 4, 1]]\n",
    "b = [10, -2, 1]"
   ]
  },
  {
   "cell_type": "code",
   "execution_count": 97,
   "metadata": {},
   "outputs": [
    {
     "name": "stdout",
     "output_type": "stream",
     "text": [
      "3\n"
     ]
    },
    {
     "data": {
      "text/plain": [
       "[2.0, -1.0, 1.0]"
      ]
     },
     "execution_count": 97,
     "metadata": {},
     "output_type": "execute_result"
    }
   ],
   "source": [
    "x = kramer(A, b)\n",
    "x"
   ]
  },
  {
   "cell_type": "code",
   "execution_count": 99,
   "metadata": {},
   "outputs": [
    {
     "data": {
      "text/plain": [
       "array([[10],\n",
       "       [-2],\n",
       "       [ 1]])"
      ]
     },
     "execution_count": 99,
     "metadata": {},
     "output_type": "execute_result"
    }
   ],
   "source": [
    "#проверим правильность в numpy\n",
    "AA = np.array(A)\n",
    "xx = np.array([[2], [-1], [1]])\n",
    "b = np.dot(AA, xx)\n",
    "b"
   ]
  },
  {
   "cell_type": "markdown",
   "metadata": {},
   "source": [
    "Получилось!"
   ]
  },
  {
   "cell_type": "code",
   "execution_count": null,
   "metadata": {},
   "outputs": [],
   "source": []
  }
 ],
 "metadata": {
  "kernelspec": {
   "display_name": "Python 3",
   "language": "python",
   "name": "python3"
  },
  "language_info": {
   "codemirror_mode": {
    "name": "ipython",
    "version": 3
   },
   "file_extension": ".py",
   "mimetype": "text/x-python",
   "name": "python",
   "nbconvert_exporter": "python",
   "pygments_lexer": "ipython3",
   "version": "3.8.3"
  }
 },
 "nbformat": 4,
 "nbformat_minor": 4
}
