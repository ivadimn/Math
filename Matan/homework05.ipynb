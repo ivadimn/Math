{
 "cells": [
  {
   "cell_type": "markdown",
   "metadata": {},
   "source": [
    "Найти предел функции:"
   ]
  },
  {
   "cell_type": "markdown",
   "metadata": {},
   "source": [
    "    lim((23 - 2x^2)(3x^2 + 17)^2) / (4x^6 + x - 1) = 9/2 ;x->inf"
   ]
  },
  {
   "cell_type": "markdown",
   "metadata": {},
   "source": [
    "    lim((97 - 2x)^3) / (2x(3x^2 + 15) + 8x) = 4/3 ;x->inf"
   ]
  },
  {
   "cell_type": "markdown",
   "metadata": {},
   "source": [
    "    lim(2x^3 + 13x(x + 18))/ (27 - x)(2x + 19)^2 = 1/2 ;x->inf"
   ]
  },
  {
   "cell_type": "markdown",
   "metadata": {},
   "source": [
    "    lim(x^2 - 36)/(x^2 - x -30) = 12/11   ;x->6"
   ]
  },
  {
   "cell_type": "markdown",
   "metadata": {},
   "source": [
    "    lim(x^2 - 49)/(x^2 - 13x + 42) = 14   ;x->7"
   ]
  },
  {
   "cell_type": "code",
   "execution_count": null,
   "metadata": {},
   "outputs": [],
   "source": []
  },
  {
   "cell_type": "markdown",
   "metadata": {},
   "source": [
    "lim 3x tg(4x) / (1 - cos(4x))   ;x->0\n",
    "\n",
    "lim 3x tg(4x) (1 + cos(4x)) / (1 - cos(4x))(1 + cos(4x)) = \n",
    "\n",
    "lim 3x(tg(4x) + tg(4x)cos(4x)) / (1 - cos^2(4x)) = \n",
    "\n",
    "lim 3x(tg(4x) + sin(4x)) / sin^2(4x) = \n",
    "\n",
    "lim 3xtg(4x) / sin^2(4x) + lim 3x / sin(4x) = \n",
    "\n",
    "lim 3x / cos(4x) + 3/4 = 3/4  \n"
   ]
  },
  {
   "cell_type": "code",
   "execution_count": null,
   "metadata": {},
   "outputs": [],
   "source": []
  }
 ],
 "metadata": {
  "kernelspec": {
   "display_name": "Python 3",
   "language": "python",
   "name": "python3"
  },
  "language_info": {
   "codemirror_mode": {
    "name": "ipython",
    "version": 3
   },
   "file_extension": ".py",
   "mimetype": "text/x-python",
   "name": "python",
   "nbconvert_exporter": "python",
   "pygments_lexer": "ipython3",
   "version": "3.7.6"
  }
 },
 "nbformat": 4,
 "nbformat_minor": 4
}
