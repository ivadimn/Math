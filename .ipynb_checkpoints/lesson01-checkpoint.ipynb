{
 "cells": [
  {
   "cell_type": "markdown",
   "metadata": {},
   "source": [
    "1. Задание (на листочке)\n",
    " Вычислите:\n",
    "  [5,   10]      [5,   10]   [45,    90]\n",
    "7*[7,   12] + 2  [7,   12] = [63,   108]\n",
    "  [11.3, 5]      [11.3, 5]   [101.7  45]\n",
    "  [25,  30]      [25,  30]   [225,  270] \n",
    "\n"
   ]
  },
  {
   "cell_type": "code",
   "execution_count": null,
   "metadata": {},
   "outputs": [],
   "source": [
    "2.1. Задание (на листочке) -  Решите систему уравнений:\n",
    "3x – 2y + 5z = 7\n",
    "7x + 4y – 8z = 3\n",
    "5x – 3y – 4z = –12\n",
    "\n"
   ]
  }
 ],
 "metadata": {
  "kernelspec": {
   "display_name": "Python 3",
   "language": "python",
   "name": "python3"
  },
  "language_info": {
   "codemirror_mode": {
    "name": "ipython",
    "version": 3
   },
   "file_extension": ".py",
   "mimetype": "text/x-python",
   "name": "python",
   "nbconvert_exporter": "python",
   "pygments_lexer": "ipython3",
   "version": "3.7.4"
  }
 },
 "nbformat": 4,
 "nbformat_minor": 2
}
