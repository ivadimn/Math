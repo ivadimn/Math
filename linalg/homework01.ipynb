{
 "cells": [
  {
   "cell_type": "markdown",
   "metadata": {},
   "source": [
    "__1.__ Исследовать на линейную зависимость:\n",
    "$$f_{1}(x)=e^{x}, f_{2}(x)=1, f_{3}(x)=x+1, f_{4}(x)=x-e^{x}.$$"
   ]
  },
  {
   "cell_type": "markdown",
   "metadata": {},
   "source": [
    "$f_{2}(x)$ можно представить:\n",
    "\n",
    "$f_{2}(x)=f_{3}(x)+f_{1}(x)-f_{4}(x)$ или\n",
    "\n",
    "$1=(x+1)+e^{x}-(x-e^{x})$\n",
    "\n",
    "следовательно $f_{1}(x), f_{2}(x), f_{3}(x), f_{4}(x)$ - линейно зависимы"
   ]
  },
  {
   "cell_type": "markdown",
   "metadata": {},
   "source": [
    "__2.__ Исследовать на линейную зависимость:\n",
    "$$f_{1}(x)=2, f_{2}(x)=x, f_{3}(x)=x^{2}, f_{4}(x)=(x+1)^{2}.$$"
   ]
  },
  {
   "cell_type": "markdown",
   "metadata": {},
   "source": [
    "$f_{4}(x)=(x+1)^{2}=x^{2}+2x +1$ можно представить:\n",
    "\n",
    "$f_{4}(x)=f_{3}(x)+2f_{2}(x)+\\frac{1}{2}f_{1}(x)$ или \n",
    "\n",
    "$x^{2} + 2x + \\frac{1}{2}2 =  x^{2}+2x +1$\n",
    "\n",
    "следовательно $f_{1}(x), f_{2}(x), f_{3}(x), f_{4}(x)$ - линейно зависимы"
   ]
  },
  {
   "cell_type": "markdown",
   "metadata": {},
   "source": [
    "__3.__ Найти координаты вектора $x = (2, 3, 5)\\in \\mathbb{R}^{3}$ в базисе $b_{1}=(0, 0, 10)$, $b_{2}=(2, 0, 0)$, $b_{3}=(0, 1, 0)$."
   ]
  },
  {
   "cell_type": "markdown",
   "metadata": {},
   "source": [
    "Вектор $x=(2, 3, 5)$ в базисе  \n",
    "\n",
    "x в новом базисе$= 2\\begin{pmatrix} 0 \\\\ 0 \\\\ 10 \n",
    "\\end{pmatrix} + 3\\begin{pmatrix} 2 \\\\ 0 \\\\ 0 \n",
    "\\end{pmatrix} + 5\\begin{pmatrix} 0 \\\\ 1 \\\\ 0 \n",
    "\\end{pmatrix}$\n",
    "\n",
    "Координаты вектора в новом базисе $x = (20, 6, 5)$"
   ]
  },
  {
   "cell_type": "code",
   "execution_count": null,
   "metadata": {},
   "outputs": [],
   "source": []
  },
  {
   "cell_type": "markdown",
   "metadata": {},
   "source": [
    "__1.__ Найти скалярное произведение векторов $x, y \\in \\mathbb{R}$:<br>\n",
    "а) $x=(0,-3, 6),~y=(-4, 7, 9);$<br>\n",
    "б) $x=(7, -4, 0, 1),~y=(-3, 1, 11, 2).$"
   ]
  },
  {
   "cell_type": "code",
   "execution_count": 10,
   "metadata": {},
   "outputs": [],
   "source": [
    "import numpy as np\n",
    "import numpy.linalg as lng"
   ]
  },
  {
   "cell_type": "code",
   "execution_count": 4,
   "metadata": {},
   "outputs": [],
   "source": [
    "x = np.array([0, -3, 6])\n",
    "y = np.array([-4, 7, 9])"
   ]
  },
  {
   "cell_type": "code",
   "execution_count": 6,
   "metadata": {},
   "outputs": [
    {
     "data": {
      "text/plain": [
       "33"
      ]
     },
     "execution_count": 6,
     "metadata": {},
     "output_type": "execute_result"
    }
   ],
   "source": [
    "#скалярное произведение\n",
    "xy = np.dot(x, y)\n",
    "xy"
   ]
  },
  {
   "cell_type": "code",
   "execution_count": 9,
   "metadata": {},
   "outputs": [
    {
     "data": {
      "text/plain": [
       "-23"
      ]
     },
     "execution_count": 9,
     "metadata": {},
     "output_type": "execute_result"
    }
   ],
   "source": [
    "x = np.array([7, -4, 0, 1])\n",
    "y = np.array([-3, 1, 11, 2])\n",
    "#xy = np.dot(x, y)\n",
    "\n",
    "#скалярное произведение\n",
    "xy = 0\n",
    "for i in range(4):\n",
    "    xy += x[i]*y[i]\n",
    "xy    "
   ]
  },
  {
   "cell_type": "markdown",
   "metadata": {},
   "source": [
    "__2.__ Найти нормы векторов $(4, 2, 4)$ и $(12, 3, 4)$ и угол между ними."
   ]
  },
  {
   "cell_type": "code",
   "execution_count": 15,
   "metadata": {},
   "outputs": [
    {
     "name": "stdout",
     "output_type": "stream",
     "text": [
      "Евклидова норма вектора [4 2 4] = 6.0\n"
     ]
    }
   ],
   "source": [
    "x = np.array([4, 2, 4])\n",
    "y = np.array([12, 3, 4])\n",
    "\n",
    "#нормы веркторов \n",
    "normx = lng.norm(x, 2)\n",
    "print(f\"Евклидова норма вектора {x} = {normx}\")"
   ]
  },
  {
   "cell_type": "code",
   "execution_count": 16,
   "metadata": {},
   "outputs": [
    {
     "name": "stdout",
     "output_type": "stream",
     "text": [
      "Евклидова норма вектора [12  3  4] = 13.0\n"
     ]
    }
   ],
   "source": [
    "normy = 0\n",
    "for i in range(3):\n",
    "    normy += y[i]*y[i]\n",
    "normy = np.sqrt(normy)\n",
    "print(f\"Евклидова норма вектора {y} = {normy}\")"
   ]
  },
  {
   "cell_type": "code",
   "execution_count": 17,
   "metadata": {},
   "outputs": [
    {
     "name": "stdout",
     "output_type": "stream",
     "text": [
      "Косинус угла между векторами [4 2 4] и [12  3  4] = 0.8974358974358975\n"
     ]
    }
   ],
   "source": [
    "cos_angle = np.dot(x, y) / (normx * normy)\n",
    "print(f\"Косинус угла между векторами {x} и {y} = {cos_angle}\")"
   ]
  },
  {
   "cell_type": "markdown",
   "metadata": {},
   "source": [
    "__3.__ Будет ли линейное пространство евклидовым, если за скалярное произведение принять:<br>\n",
    "а) произведение длин векторов;<br>\n",
    "б) утроенное обычное скалярное произведение векторов?"
   ]
  },
  {
   "cell_type": "markdown",
   "metadata": {},
   "source": [
    "В превом случае скалярное произведение определяется как<br>\n",
    "$(x, y) = \\left|x\\right|\\cdot\\left|y\\right|$<br>\n",
    "Надо проверить соблюдение 4 аксиом:<br>\n",
    "1) $(x,y)=(y,x);$<br>\n",
    "2) $(\\lambda x, y)=\\lambda(x, y);$<br>\n",
    "3) $(x_{1}+x_{2},y)=(x_{1},y)+(x_{2},y);$<br>\n",
    "4) $(x, x)\\geq0$, причем $(x,x)=0\\Leftrightarrow x=0.$<br>\n"
   ]
  },
  {
   "cell_type": "markdown",
   "metadata": {},
   "source": [
    "$\\left|x\\right|\\cdot\\left|y\\right| = \\left|y\\right|\\cdot\\left|x\\right|$ - соблюдается <br>\n",
    "$(\\lambda\\left|x\\right|\\cdot\\left|y\\right|) = \\lambda(\\left|x\\right|\\cdot\\left|y\\right|)$ - соблюдается <br>\n",
    "$\\left|x_1+x_2\\right|\\cdot\\left|y\\right| = \\left|x_1\\right|\\cdot\\left|y\\right| + \\left|x_2\\right|\\cdot\\left|y\\right|$ - не соблюдается <br>\n",
    "$\\left|x\\right|\\cdot\\left|y\\right|\\geq0$, причем $(x,x)=0\\Leftrightarrow x=0.$ - соблюдается<br>\n",
    "<br>\n",
    "В данном случае пространство не будет евклидоывм."
   ]
  },
  {
   "cell_type": "code",
   "execution_count": 22,
   "metadata": {},
   "outputs": [],
   "source": [
    "#проверка 3-й аксиомы\n",
    "x1 = np.array([1, 2, 3])\n",
    "x2 = np.array([3, -1, 5])\n",
    "y = np.array([2, 7, -3])"
   ]
  },
  {
   "cell_type": "code",
   "execution_count": 19,
   "metadata": {},
   "outputs": [
    {
     "name": "stdout",
     "output_type": "stream",
     "text": [
      "74.28324171709255\n"
     ]
    }
   ],
   "source": [
    "left = lng.norm(x1 + x2, 2) * lng.norm(y, 2)\n",
    "print(left)"
   ]
  },
  {
   "cell_type": "code",
   "execution_count": 23,
   "metadata": {},
   "outputs": [
    {
     "name": "stdout",
     "output_type": "stream",
     "text": [
      "76.04509852072093\n",
      "False\n"
     ]
    }
   ],
   "source": [
    "right = lng.norm(x1, 2) * lng.norm(y, 2) + lng.norm(x2, 2) * lng.norm(y, 2) \n",
    "print(right)\n",
    "print(left == right)      "
   ]
  },
  {
   "cell_type": "markdown",
   "metadata": {},
   "source": [
    "Во втором случае определяется как обычное скалярное произведение векторов умноженное на 3<br>\n",
    "в этом случае все 4 аксиомы будут соблюдаться значит пространство будет евклидовым"
   ]
  },
  {
   "cell_type": "markdown",
   "metadata": {},
   "source": [
    "__4.__ Какие из нижеперечисленных векторов образуют ортонормированный базис в линейном пространстве $\\mathbb{R}^{3}$:<br>\n",
    "а) $(1,0,0),(0,0,1);$ <br>\n",
    "б) $(1/\\sqrt{2},-1/\\sqrt{2},0),(1/\\sqrt{2},1/\\sqrt{2},0), (0,0,1);$<br>\n",
    "в) $(1/2, -1/2, 0), (0, 1/2, 1/2), (0,0,1);$<br>\n",
    "г) $(1,0,0),(0,1,0),(0,0,1)?$ "
   ]
  },
  {
   "cell_type": "markdown",
   "metadata": {},
   "source": [
    "__Определение.__ В конечномерном евклидовом пространстве базис $\\{e_{1},e_{2},...,e_{n}\\}$ называется ортонормированным, если \n",
    "\n",
    "$(e_{i}, e_{j})=0$ $\\forall$ $i\\neq j$ и $(e_{i},e_{i})=1$ $\\forall$ $i\\in[1, n].$"
   ]
  },
  {
   "cell_type": "markdown",
   "metadata": {},
   "source": [
    "В первом случае для базиса не хватает одного вектора.<br>\n",
    "\n",
    "Во всех остальных случаях вектора образует, ортонормированный базис так как соблюдаются условия определения."
   ]
  },
  {
   "cell_type": "code",
   "execution_count": null,
   "metadata": {},
   "outputs": [],
   "source": []
  }
 ],
 "metadata": {
  "kernelspec": {
   "display_name": "Python 3",
   "language": "python",
   "name": "python3"
  },
  "language_info": {
   "codemirror_mode": {
    "name": "ipython",
    "version": 3
   },
   "file_extension": ".py",
   "mimetype": "text/x-python",
   "name": "python",
   "nbconvert_exporter": "python",
   "pygments_lexer": "ipython3",
   "version": "3.8.3"
  }
 },
 "nbformat": 4,
 "nbformat_minor": 4
}
