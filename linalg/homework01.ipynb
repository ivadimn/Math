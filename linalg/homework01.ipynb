{
 "cells": [
  {
   "cell_type": "markdown",
   "metadata": {},
   "source": [
    "__1.__ Исследовать на линейную зависимость:\n",
    "$$f_{1}(x)=e^{x}, f_{2}(x)=1, f_{3}(x)=x+1, f_{4}(x)=x-e^{x}.$$"
   ]
  },
  {
   "cell_type": "markdown",
   "metadata": {},
   "source": [
    "$f_{2}(x)$ можно представить:\n",
    "\n",
    "$f_{2}(x)=f_{3}(x)+f_{1}(x)-f_{4}(x)$ или\n",
    "\n",
    "$1=(x+1)+e^{x}-(x-e^{x})$\n",
    "\n",
    "следовательно $f_{1}(x), f_{2}(x), f_{3}(x), f_{4}(x)$ - линейно зависимы"
   ]
  },
  {
   "cell_type": "markdown",
   "metadata": {},
   "source": [
    "__2.__ Исследовать на линейную зависимость:\n",
    "$$f_{1}(x)=2, f_{2}(x)=x, f_{3}(x)=x^{2}, f_{4}(x)=(x+1)^{2}.$$"
   ]
  },
  {
   "cell_type": "markdown",
   "metadata": {},
   "source": [
    "$f_{4}(x)=(x+1)^{2}=x^{2}+2x +1$ можно представить:\n",
    "\n",
    "$f_{4}(x)=f_{3}(x)+2f_{2}(x)+\\frac{1}{2}f_{1}(x)$ или \n",
    "\n",
    "$x^{2} + 2x + \\frac{1}{2}2 =  x^{2}+2x +1$\n",
    "\n",
    "следовательно $f_{1}(x), f_{2}(x), f_{3}(x), f_{4}(x)$ - линейно зависимы"
   ]
  },
  {
   "cell_type": "markdown",
   "metadata": {},
   "source": [
    "__3.__ Найти координаты вектора $x = (2, 3, 5)\\in \\mathbb{R}^{3}$ в базисе $b_{1}=(0, 0, 10)$, $b_{2}=(2, 0, 0)$, $b_{3}=(0, 1, 0)$."
   ]
  },
  {
   "cell_type": "markdown",
   "metadata": {},
   "source": [
    "Вектор $x=(2, 3, 5)$ в базисе $b_{1}=(0, 0, 10)$, $b_{2}=(2, 0, 0)$, $b_{3}=(0, 1, 0)$ \n",
    "\n",
    "x в новом базисе$= 2\\begin{pmatrix} 0 \\\\ 0 \\\\ 10 \n",
    "\\end{pmatrix} + 3\\begin{pmatrix} 2 \\\\ 0 \\\\ 0 \n",
    "\\end{pmatrix} + 5\\begin{pmatrix} 0 \\\\ 1 \\\\ 0 \n",
    "\\end{pmatrix}$"
   ]
  },
  {
   "cell_type": "code",
   "execution_count": null,
   "metadata": {},
   "outputs": [],
   "source": []
  }
 ],
 "metadata": {
  "kernelspec": {
   "display_name": "Python 3",
   "language": "python",
   "name": "python3"
  },
  "language_info": {
   "codemirror_mode": {
    "name": "ipython",
    "version": 3
   },
   "file_extension": ".py",
   "mimetype": "text/x-python",
   "name": "python",
   "nbconvert_exporter": "python",
   "pygments_lexer": "ipython3",
   "version": "3.8.3"
  }
 },
 "nbformat": 4,
 "nbformat_minor": 4
}
