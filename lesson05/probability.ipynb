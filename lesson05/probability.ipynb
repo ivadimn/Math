{
 "cells": [
  {
   "cell_type": "markdown",
   "metadata": {},
   "source": [
    "1. Напишите код, моделирующий выпадение поля в рулетке (с учетом поля зеро)."
   ]
  },
  {
   "cell_type": "code",
   "execution_count": 37,
   "metadata": {},
   "outputs": [],
   "source": [
    "%matplotlib inline\n",
    "import numpy as np\n",
    "import matplotlib.pyplot as plt"
   ]
  },
  {
   "cell_type": "code",
   "execution_count": 49,
   "metadata": {},
   "outputs": [],
   "source": [
    "x = {i : 0 for i in range(37)}"
   ]
  },
  {
   "cell_type": "code",
   "execution_count": 50,
   "metadata": {},
   "outputs": [
    {
     "name": "stdout",
     "output_type": "stream",
     "text": [
      "{0: 24, 1: 23, 2: 30, 3: 26, 4: 19, 5: 25, 6: 33, 7: 19, 8: 25, 9: 28, 10: 22, 11: 33, 12: 37, 13: 29, 14: 31, 15: 18, 16: 29, 17: 24, 18: 23, 19: 26, 20: 40, 21: 25, 22: 20, 23: 25, 24: 35, 25: 36, 26: 21, 27: 30, 28: 24, 29: 25, 30: 27, 31: 29, 32: 26, 33: 36, 34: 23, 35: 31, 36: 23}\n"
     ]
    }
   ],
   "source": [
    "n = 1000\n",
    "for _ in range(n):\n",
    "    v = np.random.randint(0, 37)\n",
    "    x[v] += 1\n",
    "# сколько раз какое число выпало    \n",
    "print(x)    "
   ]
  },
  {
   "cell_type": "markdown",
   "metadata": {},
   "source": [
    "2. \n",
    "    1) Напишите код, проверяющий любую из теорем сложения или умножения вероятности на примере рулетки или подбрасывания монетки.\n"
   ]
  },
  {
   "cell_type": "code",
   "execution_count": 9,
   "metadata": {},
   "outputs": [],
   "source": [
    "v1 = 1/37 # веротяность выпадения какого-нибудь числа или 0\n",
    "# вероятность того что выпадет число меньшее 10 = 10/37 (0 и числа от 1 до 9)\n",
    "v1037 = 10 / 37"
   ]
  },
  {
   "cell_type": "code",
   "execution_count": 16,
   "metadata": {},
   "outputs": [
    {
     "data": {
      "text/plain": [
       "True"
      ]
     },
     "execution_count": 16,
     "metadata": {},
     "output_type": "execute_result"
    }
   ],
   "source": [
    "# это значит что выпадет 0 или 1 или 2 или 3 и т.д.\n",
    "ve = 0\n",
    "for i in range(0, 10):\n",
    "    ve += v1\n",
    "ve == v1037    "
   ]
  },
  {
   "cell_type": "markdown",
   "metadata": {},
   "source": [
    "    2) Сгенерируйте десять выборок случайных чисел х0, …, х9.\n",
    "и постройте гистограмму распределения случайной суммы х0+х1+ …+ х9.\n",
    "(100 по 10 чисел)"
   ]
  },
  {
   "cell_type": "code",
   "execution_count": 56,
   "metadata": {},
   "outputs": [],
   "source": [
    "X = np.zeros((100, 10))"
   ]
  },
  {
   "cell_type": "code",
   "execution_count": 57,
   "metadata": {},
   "outputs": [],
   "source": [
    "for i in range(100):\n",
    "    X[i] = np.random.rand(10)"
   ]
  },
  {
   "cell_type": "code",
   "execution_count": 58,
   "metadata": {},
   "outputs": [
    {
     "data": {
      "text/plain": [
       "array([4.22140827, 5.63112848, 5.73858063, 6.27048302, 3.82205461,\n",
       "       3.64617758, 5.60179039, 6.00914283, 4.36848269, 3.42845715,\n",
       "       5.24832677, 5.89913345, 4.15469902, 4.08497085, 5.64865817,\n",
       "       4.5815451 , 6.07066294, 5.64784917, 3.7467154 , 4.23020408,\n",
       "       6.48011842, 6.57975507, 6.17312811, 4.8280832 , 5.64159967,\n",
       "       6.73393377, 3.34084665, 5.58848361, 5.00000171, 5.5265474 ,\n",
       "       4.56314369, 4.10762648, 5.15546819, 6.94099319, 5.19848385,\n",
       "       5.96935509, 5.37947151, 3.79572105, 5.54021646, 5.79161038,\n",
       "       4.35154141, 5.38978222, 5.80659643, 3.69131515, 4.4030579 ,\n",
       "       3.40002821, 4.19200078, 5.56549862, 5.57411271, 5.81980195,\n",
       "       5.93364961, 3.89221515, 3.93958982, 3.90894467, 4.57992112,\n",
       "       5.15792996, 4.18530222, 5.53142316, 3.90478434, 4.08015974,\n",
       "       4.78998443, 5.06428135, 4.73265958, 4.1889869 , 5.11723557,\n",
       "       3.81116049, 6.60167002, 5.04097446, 5.16129883, 3.62943699,\n",
       "       6.45046387, 5.05605642, 6.81713683, 4.08824916, 5.44567168,\n",
       "       3.01899916, 4.93199475, 4.83933312, 4.68489686, 4.92833958,\n",
       "       4.1843826 , 4.43332145, 4.44833963, 5.04835084, 6.49343127,\n",
       "       3.80401443, 4.19593851, 4.14340022, 3.97175024, 4.79838494,\n",
       "       4.90082609, 6.13714518, 5.86160614, 3.86410631, 4.93504287,\n",
       "       6.31752966, 5.58885457, 4.21039941, 4.30496785, 5.46658702])"
      ]
     },
     "execution_count": 58,
     "metadata": {},
     "output_type": "execute_result"
    }
   ],
   "source": [
    "xs = np.array([X[i, :].sum() for i in range(100)])\n",
    "xs"
   ]
  },
  {
   "cell_type": "code",
   "execution_count": 59,
   "metadata": {},
   "outputs": [
    {
     "data": {
      "text/plain": [
       "Text(0.5, 1.0, 'Histogram')"
      ]
     },
     "execution_count": 59,
     "metadata": {},
     "output_type": "execute_result"
    },
    {
     "data": {
      "image/png": "[encoded data removed]",
      "text/plain": [
       "<Figure size 432x288 with 1 Axes>"
      ]
     },
     "metadata": {
      "needs_background": "light"
     },
     "output_type": "display_data"
    }
   ],
   "source": [
    "n_bins = 20\n",
    "n, bins, patches = plt.hist(xs, n_bins)\n",
    "plt.xlabel('x')\n",
    "plt.ylabel('Probability')\n",
    "plt.title('Histogram')"
   ]
  },
  {
   "cell_type": "markdown",
   "metadata": {},
   "source": [
    "3.\n",
    "    1) Дополните код Монте-Карло последовательности независимых испытаний расчетом соответствующих вероятностей (через биномиальное распределение) \n",
    "и сравните результаты."
   ]
  },
  {
   "cell_type": "code",
   "execution_count": 60,
   "metadata": {},
   "outputs": [
    {
     "name": "stdout",
     "output_type": "stream",
     "text": [
      "3713 10000 0.3713\n"
     ]
    }
   ],
   "source": [
    "k, n = 0, 10000\n",
    "a = np.random.randint(0, 2, n)\n",
    "b = np.random.randint(0, 2, n)\n",
    "c = np.random.randint(0, 2, n)\n",
    "d = np.random.randint(0, 2, n)\n",
    "x = a + b + c + d\n",
    "for i in range(0, n):\n",
    "    if x[i] == 2:\n",
    "        k = k + 1\n",
    "print(k, n, k/n)"
   ]
  },
  {
   "cell_type": "markdown",
   "metadata": {},
   "source": [
    "Теперь по формуле (2 успеха при 4 испытаниях)"
   ]
  },
  {
   "cell_type": "code",
   "execution_count": 63,
   "metadata": {},
   "outputs": [
    {
     "data": {
      "text/plain": [
       "6.0"
      ]
     },
     "execution_count": 63,
     "metadata": {},
     "output_type": "execute_result"
    }
   ],
   "source": [
    "n = 4\n",
    "k = 2\n",
    "Cnk = np.math.factorial(n) / (np.math.factorial(k) * np.math.factorial(n - k))\n",
    "Cnk"
   ]
  },
  {
   "cell_type": "code",
   "execution_count": 64,
   "metadata": {},
   "outputs": [
    {
     "data": {
      "text/plain": [
       "0.375"
      ]
     },
     "execution_count": 64,
     "metadata": {},
     "output_type": "execute_result"
    }
   ],
   "source": [
    "Pnk = Cnk * (1/2**n)\n",
    "Pnk"
   ]
  },
  {
   "cell_type": "markdown",
   "metadata": {},
   "source": [
    "#### Вероятности почти совпадают"
   ]
  },
  {
   "cell_type": "markdown",
   "metadata": {},
   "source": [
    "2. Повторите расчеты биномиальных коэффициентов и вероятностей k успехов в последовательности из n независимых испытаний, взяв другие значения n и k.\n",
    "(возьмём 8 испытаний и 5 успехов"
   ]
  },
  {
   "cell_type": "code",
   "execution_count": 65,
   "metadata": {},
   "outputs": [
    {
     "name": "stdout",
     "output_type": "stream",
     "text": [
      "2160 10000 0.216\n"
     ]
    }
   ],
   "source": [
    "k, n = 0, 10000\n",
    "a = np.random.randint(0, 2, n)\n",
    "b = np.random.randint(0, 2, n)\n",
    "c = np.random.randint(0, 2, n)\n",
    "d = np.random.randint(0, 2, n)\n",
    "e = np.random.randint(0, 2, n)\n",
    "f = np.random.randint(0, 2, n)\n",
    "g = np.random.randint(0, 2, n)\n",
    "h = np.random.randint(0, 2, n)\n",
    "x = a + b + c + d + e + f + g + h\n",
    "for i in range(0, n):\n",
    "    if x[i] == 5:\n",
    "        k = k + 1\n",
    "print(k, n, k/n)"
   ]
  },
  {
   "cell_type": "markdown",
   "metadata": {},
   "source": [
    "Теперь по формуле (5 успехов при 8 испытаниях)"
   ]
  },
  {
   "cell_type": "code",
   "execution_count": 66,
   "metadata": {},
   "outputs": [
    {
     "data": {
      "text/plain": [
       "56.0"
      ]
     },
     "execution_count": 66,
     "metadata": {},
     "output_type": "execute_result"
    }
   ],
   "source": [
    "n = 8\n",
    "k = 5\n",
    "Cnk = np.math.factorial(n) / (np.math.factorial(k) * np.math.factorial(n - k))\n",
    "Cnk"
   ]
  },
  {
   "cell_type": "code",
   "execution_count": 67,
   "metadata": {},
   "outputs": [
    {
     "data": {
      "text/plain": [
       "0.21875"
      ]
     },
     "execution_count": 67,
     "metadata": {},
     "output_type": "execute_result"
    }
   ],
   "source": [
    "Pnk = Cnk * (1/2**n)\n",
    "Pnk"
   ]
  },
  {
   "cell_type": "markdown",
   "metadata": {},
   "source": [
    "#### Здесь тоже почти совпадает ...."
   ]
  },
  {
   "cell_type": "markdown",
   "metadata": {},
   "source": [
    "4. Из урока по комбинаторике повторите расчеты, \n",
    "сгенерировав возможные варианты перестановок для других значений n и k"
   ]
  },
  {
   "cell_type": "code",
   "execution_count": 68,
   "metadata": {},
   "outputs": [],
   "source": [
    "import itertools"
   ]
  },
  {
   "cell_type": "code",
   "execution_count": 85,
   "metadata": {},
   "outputs": [
    {
     "name": "stdout",
     "output_type": "stream",
     "text": [
      "012\n",
      "013\n",
      "014\n",
      "015\n",
      "021\n",
      "023\n",
      "024\n",
      "025\n",
      "031\n",
      "032\n",
      "034\n",
      "035\n",
      "041\n",
      "042\n",
      "043\n",
      "045\n",
      "051\n",
      "052\n",
      "053\n",
      "054\n",
      "102\n",
      "103\n",
      "104\n",
      "105\n",
      "120\n",
      "123\n",
      "124\n",
      "125\n",
      "130\n",
      "132\n",
      "134\n",
      "135\n",
      "140\n",
      "142\n",
      "143\n",
      "145\n",
      "150\n",
      "152\n",
      "153\n",
      "154\n",
      "201\n",
      "203\n",
      "204\n",
      "205\n",
      "210\n",
      "213\n",
      "214\n",
      "215\n",
      "230\n",
      "231\n",
      "234\n",
      "235\n",
      "240\n",
      "241\n",
      "243\n",
      "245\n",
      "250\n",
      "251\n",
      "253\n",
      "254\n",
      "301\n",
      "302\n",
      "304\n",
      "305\n",
      "310\n",
      "312\n",
      "314\n",
      "315\n",
      "320\n",
      "321\n",
      "324\n",
      "325\n",
      "340\n",
      "341\n",
      "342\n",
      "345\n",
      "350\n",
      "351\n",
      "352\n",
      "354\n",
      "401\n",
      "402\n",
      "403\n",
      "405\n",
      "410\n",
      "412\n",
      "413\n",
      "415\n",
      "420\n",
      "421\n",
      "423\n",
      "425\n",
      "430\n",
      "431\n",
      "432\n",
      "435\n",
      "450\n",
      "451\n",
      "452\n",
      "453\n",
      "501\n",
      "502\n",
      "503\n",
      "504\n",
      "510\n",
      "512\n",
      "513\n",
      "514\n",
      "520\n",
      "521\n",
      "523\n",
      "524\n",
      "530\n",
      "531\n",
      "532\n",
      "534\n",
      "540\n",
      "541\n",
      "542\n",
      "543\n",
      "120\n"
     ]
    }
   ],
   "source": [
    "#размещения\n",
    "for p in itertools.permutations(\"012345\",3):\n",
    "    print(''.join(str(x) for x in p))"
   ]
  },
  {
   "cell_type": "code",
   "execution_count": 88,
   "metadata": {},
   "outputs": [
    {
     "data": {
      "text/plain": [
       "120.0"
      ]
     },
     "execution_count": 88,
     "metadata": {},
     "output_type": "execute_result"
    }
   ],
   "source": [
    "n = 6\n",
    "k = 3\n",
    "np.math.factorial(n) / np.math.factorial(n - k)"
   ]
  },
  {
   "cell_type": "code",
   "execution_count": 89,
   "metadata": {},
   "outputs": [
    {
     "name": "stdout",
     "output_type": "stream",
     "text": [
      "0123\n",
      "0124\n",
      "0125\n",
      "0126\n",
      "0127\n",
      "0128\n",
      "0129\n",
      "0134\n",
      "0135\n",
      "0136\n",
      "0137\n",
      "0138\n",
      "0139\n",
      "0145\n",
      "0146\n",
      "0147\n",
      "0148\n",
      "0149\n",
      "0156\n",
      "0157\n",
      "0158\n",
      "0159\n",
      "0167\n",
      "0168\n",
      "0169\n",
      "0178\n",
      "0179\n",
      "0189\n",
      "0234\n",
      "0235\n",
      "0236\n",
      "0237\n",
      "0238\n",
      "0239\n",
      "0245\n",
      "0246\n",
      "0247\n",
      "0248\n",
      "0249\n",
      "0256\n",
      "0257\n",
      "0258\n",
      "0259\n",
      "0267\n",
      "0268\n",
      "0269\n",
      "0278\n",
      "0279\n",
      "0289\n",
      "0345\n",
      "0346\n",
      "0347\n",
      "0348\n",
      "0349\n",
      "0356\n",
      "0357\n",
      "0358\n",
      "0359\n",
      "0367\n",
      "0368\n",
      "0369\n",
      "0378\n",
      "0379\n",
      "0389\n",
      "0456\n",
      "0457\n",
      "0458\n",
      "0459\n",
      "0467\n",
      "0468\n",
      "0469\n",
      "0478\n",
      "0479\n",
      "0489\n",
      "0567\n",
      "0568\n",
      "0569\n",
      "0578\n",
      "0579\n",
      "0589\n",
      "0678\n",
      "0679\n",
      "0689\n",
      "0789\n",
      "1234\n",
      "1235\n",
      "1236\n",
      "1237\n",
      "1238\n",
      "1239\n",
      "1245\n",
      "1246\n",
      "1247\n",
      "1248\n",
      "1249\n",
      "1256\n",
      "1257\n",
      "1258\n",
      "1259\n",
      "1267\n",
      "1268\n",
      "1269\n",
      "1278\n",
      "1279\n",
      "1289\n",
      "1345\n",
      "1346\n",
      "1347\n",
      "1348\n",
      "1349\n",
      "1356\n",
      "1357\n",
      "1358\n",
      "1359\n",
      "1367\n",
      "1368\n",
      "1369\n",
      "1378\n",
      "1379\n",
      "1389\n",
      "1456\n",
      "1457\n",
      "1458\n",
      "1459\n",
      "1467\n",
      "1468\n",
      "1469\n",
      "1478\n",
      "1479\n",
      "1489\n",
      "1567\n",
      "1568\n",
      "1569\n",
      "1578\n",
      "1579\n",
      "1589\n",
      "1678\n",
      "1679\n",
      "1689\n",
      "1789\n",
      "2345\n",
      "2346\n",
      "2347\n",
      "2348\n",
      "2349\n",
      "2356\n",
      "2357\n",
      "2358\n",
      "2359\n",
      "2367\n",
      "2368\n",
      "2369\n",
      "2378\n",
      "2379\n",
      "2389\n",
      "2456\n",
      "2457\n",
      "2458\n",
      "2459\n",
      "2467\n",
      "2468\n",
      "2469\n",
      "2478\n",
      "2479\n",
      "2489\n",
      "2567\n",
      "2568\n",
      "2569\n",
      "2578\n",
      "2579\n",
      "2589\n",
      "2678\n",
      "2679\n",
      "2689\n",
      "2789\n",
      "3456\n",
      "3457\n",
      "3458\n",
      "3459\n",
      "3467\n",
      "3468\n",
      "3469\n",
      "3478\n",
      "3479\n",
      "3489\n",
      "3567\n",
      "3568\n",
      "3569\n",
      "3578\n",
      "3579\n",
      "3589\n",
      "3678\n",
      "3679\n",
      "3689\n",
      "3789\n",
      "4567\n",
      "4568\n",
      "4569\n",
      "4578\n",
      "4579\n",
      "4589\n",
      "4678\n",
      "4679\n",
      "4689\n",
      "4789\n",
      "5678\n",
      "5679\n",
      "5689\n",
      "5789\n",
      "6789\n"
     ]
    }
   ],
   "source": [
    "#сочетания\n",
    "for p in itertools.combinations(\"0123456789\",4):\n",
    "    print(''.join(p)) "
   ]
  },
  {
   "cell_type": "code",
   "execution_count": 90,
   "metadata": {},
   "outputs": [
    {
     "data": {
      "text/plain": [
       "210.0"
      ]
     },
     "execution_count": 90,
     "metadata": {},
     "output_type": "execute_result"
    }
   ],
   "source": [
    "n = 10\n",
    "k = 4\n",
    "Cnk = np.math.factorial(n) / (np.math.factorial(k) * np.math.factorial(n - k))\n",
    "Cnk"
   ]
  },
  {
   "cell_type": "markdown",
   "metadata": {},
   "source": [
    "5. Дополните код расчетом коэффициента корреляции x и y по формуле"
   ]
  },
  {
   "cell_type": "code",
   "execution_count": 97,
   "metadata": {},
   "outputs": [
    {
     "name": "stdout",
     "output_type": "stream",
     "text": [
      "0.6842204732972579 0.1532366126939408\n",
      "0.6842204732972567 0.1532366126939412\n",
      "0.919709133726235\n"
     ]
    },
    {
     "name": "stderr",
     "output_type": "stream",
     "text": [
      "/home/vadim/anaconda3/lib/python3.7/site-packages/ipykernel_launcher.py:18: FutureWarning: `rcond` parameter will change to the default of machine precision times ``max(M, N)`` where M and N are the input matrix dimensions.\n",
      "To use the future default and silence this warning we advise to pass `rcond=None`, to keep using the old, explicitly pass `rcond=-1`.\n"
     ]
    },
    {
     "data": {
      "image/png": "[encoded data removed]",
      "text/plain": [
       "<Figure size 432x288 with 1 Axes>"
      ]
     },
     "metadata": {
      "needs_background": "light"
     },
     "output_type": "display_data"
    }
   ],
   "source": [
    "n = 100\n",
    "r = 0.7\n",
    "x = np.random.rand(n)\n",
    "y = r*x + (1 - r)*np.random.rand(n)\n",
    "plt.plot(x, y, 'o')\n",
    "plt.xlabel('x')\n",
    "plt.ylabel('y')\n",
    "plt.grid(True)\n",
    "\n",
    "a = (np.sum(x)*np.sum(y) - n*np.sum(x*y))/(np.sum(x)*np.sum(x) - n*np.sum(x*x))\n",
    "b = (np.sum(y) - a*np.sum(x))/n\n",
    "\n",
    "Xm = np.mean(x)\n",
    "Ym = np.mean(y)\n",
    "corr = np.sum((x - Xm) * (y - Ym)) / np.sqrt(np.sum((x - Xm)**2) * np.sum((y - Ym)**2))\n",
    "\n",
    "A = np.vstack([x, np.ones(len(x))]).T\n",
    "a1, b1 = np.linalg.lstsq(A, y)[0]\n",
    "print(a, b)\n",
    "print(a1, b1)\n",
    "print(corr)\n",
    "plt.plot([0, 1], [b, a + b])\n",
    "plt.show()"
   ]
  },
  {
   "cell_type": "code",
   "execution_count": null,
   "metadata": {},
   "outputs": [],
   "source": []
  }
 ],
 "metadata": {
  "kernelspec": {
   "display_name": "Python 3",
   "language": "python",
   "name": "python3"
  },
  "language_info": {
   "codemirror_mode": {
    "name": "ipython",
    "version": 3
   },
   "file_extension": ".py",
   "mimetype": "text/x-python",
   "name": "python",
   "nbconvert_exporter": "python",
   "pygments_lexer": "ipython3",
   "version": "3.7.6"
  }
 },
 "nbformat": 4,
 "nbformat_minor": 2
}
