{
 "cells": [
  {
   "cell_type": "code",
   "execution_count": 7,
   "metadata": {},
   "outputs": [],
   "source": [
    "import numpy as np\n",
    "from math import factorial"
   ]
  },
  {
   "cell_type": "markdown",
   "metadata": {},
   "source": [
    "Задача 1\n",
    "Из колоды в 52 карты вынимают случайным образом 4 карты. Найти число исходов, соответствующих тому, что был вытянут хотя бы один туз."
   ]
  },
  {
   "cell_type": "markdown",
   "metadata": {},
   "source": [
    "Событие A, что взят хотя бы один туз означает, что взят 1 туз, взято 2 туза, взято 3 туза или взято 4 туза. "
   ]
  },
  {
   "cell_type": "code",
   "execution_count": 8,
   "metadata": {},
   "outputs": [],
   "source": [
    "def combinations(n, k):\n",
    "    return int(factorial(n) / (factorial(k) * factorial(n - k)))"
   ]
  },
  {
   "cell_type": "code",
   "execution_count": 15,
   "metadata": {},
   "outputs": [
    {
     "name": "stdout",
     "output_type": "stream",
     "text": [
      "69184\n"
     ]
    }
   ],
   "source": [
    "# взят один туз\n",
    "A1 = combinations(4, 1) * combinations(48, 3)\n",
    "print(A1)"
   ]
  },
  {
   "cell_type": "code",
   "execution_count": 16,
   "metadata": {},
   "outputs": [
    {
     "name": "stdout",
     "output_type": "stream",
     "text": [
      "6768\n"
     ]
    }
   ],
   "source": [
    "# взятo два туза\n",
    "A2 = combinations(4, 2) * combinations(48, 2)\n",
    "print(A2)"
   ]
  },
  {
   "cell_type": "code",
   "execution_count": 17,
   "metadata": {},
   "outputs": [
    {
     "name": "stdout",
     "output_type": "stream",
     "text": [
      "192\n"
     ]
    }
   ],
   "source": [
    "# взятo три туза\n",
    "A3 = combinations(4, 3) * combinations(48, 1)\n",
    "print(A3)"
   ]
  },
  {
   "cell_type": "code",
   "execution_count": 18,
   "metadata": {},
   "outputs": [
    {
     "name": "stdout",
     "output_type": "stream",
     "text": [
      "1\n"
     ]
    }
   ],
   "source": [
    "# взятo четыре туза\n",
    "A4 = combinations(4,4)\n",
    "print(A4)"
   ]
  },
  {
   "cell_type": "code",
   "execution_count": 19,
   "metadata": {},
   "outputs": [
    {
     "name": "stdout",
     "output_type": "stream",
     "text": [
      "76145\n"
     ]
    }
   ],
   "source": [
    "#Всего комбинаций когда взят хотябы 1 туз\n",
    "A = A1 + A2 + A3 + A4\n",
    "print(A)"
   ]
  },
  {
   "cell_type": "markdown",
   "metadata": {},
   "source": [
    "Задача 2\n",
    "\n",
    "Семь человек рассаживаются наудачу на скамейке. Какова вероятность того, что рядом будут сидеть: а) два определённых человека? б) три определённых человека?"
   ]
  },
  {
   "cell_type": "code",
   "execution_count": 26,
   "metadata": {},
   "outputs": [
    {
     "name": "stdout",
     "output_type": "stream",
     "text": [
      "0.2857142857142857\n"
     ]
    }
   ],
   "source": [
    "#1. Всего может образоваться 6 пар. Каждая пара человек может сесть двумя способами. \n",
    "# Все остальные 5 любыми, то есть 5! способами.\n",
    "# Всего перестановок 7!\n",
    "\n",
    "m = 2 * 6 * factorial(5)\n",
    "n = factorial(7)\n",
    "P = m / n\n",
    "print(P)"
   ]
  },
  {
   "cell_type": "code",
   "execution_count": 27,
   "metadata": {},
   "outputs": [
    {
     "name": "stdout",
     "output_type": "stream",
     "text": [
      "0.05714285714285714\n"
     ]
    }
   ],
   "source": [
    "#1. Всего может образоваться 2 тройки. Каждая тройка человек может сесть 6 способами. \n",
    "# Все остальные 4 любыми, то есть 4! способами.\n",
    "# Всего перестановок 7!\n",
    "\n",
    "m = 2 * 6 * factorial(4)\n",
    "n = factorial(7)\n",
    "P2 = m / n\n",
    "print(P2)"
   ]
  },
  {
   "cell_type": "markdown",
   "metadata": {},
   "source": [
    "Задание 3\n",
    "Из 60 вопросов, входящих в экзаменационные билеты, студент знает 50. Какова вероятность того, что среди трёх наугад выбранных вопросов студент знает: а) все? б) два?\n",
    "\n",
    "1. Общее число исходов это 3 из 60, благоприятный случаев 3 из 50"
   ]
  },
  {
   "cell_type": "code",
   "execution_count": 29,
   "metadata": {},
   "outputs": [
    {
     "name": "stdout",
     "output_type": "stream",
     "text": [
      "0.5727644652250146\n"
     ]
    }
   ],
   "source": [
    "n = combinations(60, 3)\n",
    "m = combinations(50, 3)\n",
    "P = m / n\n",
    "print(P)"
   ]
  },
  {
   "cell_type": "markdown",
   "metadata": {},
   "source": [
    "2.  Общее число исходов это 3 из 60, благоприятный случаев 2 из 50 и 1 из 10 - билеты которые студент не знает"
   ]
  },
  {
   "cell_type": "code",
   "execution_count": 31,
   "metadata": {},
   "outputs": [
    {
     "name": "stdout",
     "output_type": "stream",
     "text": [
      "0.35797779076563413\n"
     ]
    }
   ],
   "source": [
    "n = combinations(60, 3)\n",
    "m = combinations(50, 2) * combinations(10, 1)\n",
    "P = m / n\n",
    "print(P)"
   ]
  },
  {
   "cell_type": "markdown",
   "metadata": {},
   "source": [
    "Задача 4\n",
    "\n",
    "Бросается игральная кость. Пусть событие A - появление чётного числа, событие B - появление числа больше трёх. Являются ли эти события независимыми?\n",
    "\n",
    "Вероятность события А = 1/2\n",
    "Вероятность события B = 1/2\n",
    "Вероятность события А при условии события В P(A|B) = P(AB) / P(B) = (1/4) / (1/2) = 1/2\n",
    "По определению если P(A|B) = P(A), то события **независимы**."
   ]
  },
  {
   "cell_type": "markdown",
   "metadata": {},
   "source": [
    "Задача 5\n",
    "\n",
    "Допустим, имеется некоторая очень редкая болезнь (поражает 0.1% населения). Вы приходите к врачу, вам делают тест на эту болезнь, и тест оказывается положительным. Врач говорит вам, что этот тест верно выявляет 99% больных этой болезнью и всего лишь в 1% случаев даёт ложный положительный ответ.\n",
    "\n",
    "Вопрос: какова вероятность, что вы действительно больны ей?\n",
    "\n",
    "Подсказка: вновь используйте формулу Байеса с раскрытием знаменателя с помощью формулы полной вероятности.\n",
    "\n",
    "Не знаю как решать, но кажется, что вероятность что я болен равно 0.5 (варианта 2 болен или не болен, как оел и решка) "
   ]
  },
  {
   "cell_type": "code",
   "execution_count": null,
   "metadata": {},
   "outputs": [],
   "source": []
  }
 ],
 "metadata": {
  "kernelspec": {
   "display_name": "Python 3",
   "language": "python",
   "name": "python3"
  },
  "language_info": {
   "codemirror_mode": {
    "name": "ipython",
    "version": 3
   },
   "file_extension": ".py",
   "mimetype": "text/x-python",
   "name": "python",
   "nbconvert_exporter": "python",
   "pygments_lexer": "ipython3",
   "version": "3.7.6"
  }
 },
 "nbformat": 4,
 "nbformat_minor": 4
}
