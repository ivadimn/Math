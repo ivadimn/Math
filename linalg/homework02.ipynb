{
 "cells": [
  {
   "cell_type": "markdown",
   "metadata": {},
   "source": [
    "__1.__ Установить, какие произведения матриц $AB$ и $BA$ определены, и найти размерности полученных матриц:\n",
    "\n",
    "   а) $A$ — матрица $4\\times 2$, $B$ — матрица $4\\times 2$;\n",
    "    \n",
    "   б) $A$ — матрица $2\\times 5$, $B$ — матрица $5\\times 3$;\n",
    "    \n",
    "   в) $A$ — матрица $8\\times 3$, $B$ — матрица $3\\times 8$;\n",
    "    \n",
    "   г) $A$ — квадратная матрица $4\\times 4$, $B$ — квадратная матрица $4\\times 4$."
   ]
  },
  {
   "cell_type": "markdown",
   "metadata": {},
   "source": [
    "<h3>Определение:</h3>\n",
    "Произведением_ матрицы $A = \\left\\|a_{ij}\\right\\|$, имеющей порядки $m$ и $n$, и матрицы $B = \\left\\|b_{ij}\\right\\|$, имеющей порядки $n$ и $k$, называется матрица $C = \\left\\|c_{ij}\\right\\|$, имеющая порядки $m$ и $k$:\n",
    "\n",
    "$$C = \\begin{pmatrix}\n",
    "c_{11} & c_{12} & \\cdots & c_{1k}\\\\ \n",
    "c_{21} & c_{22} & \\cdots & c_{2k}\\\\ \n",
    "\\cdots & \\cdots & \\ddots & \\cdots\\\\ \n",
    "c_{m1} & c_{m2} & \\cdots & c_{mk}\n",
    "\\end{pmatrix},$$\n",
    "\n",
    "наполненная элементами, определяемыми формулой\n",
    "\n",
    "$$ c_{ij}=\\sum_{p=1}^{n}a_{ip}b_{pj}.$$<br>\n",
    "<h3>Ограничение:</h3><br>\n",
    "Следует заметить, что матрицу $A$ можно умножить не на всякую матрицу $B$: необходимо, чтобы число столбцов матрицы $A$ было равно числу строк матрицы $B$."
   ]
  },
  {
   "cell_type": "markdown",
   "metadata": {},
   "source": [
    "а) $A$ — матрица $4\\times 2$, $B$ — матрица $4\\times 2$ - здесь произведения $AB$ и $BA$ не определены."
   ]
  },
  {
   "cell_type": "markdown",
   "metadata": {},
   "source": [
    "б) $A$ — матрица $2\\times 5$, $B$ — матрица $5\\times 3$;- здесь произведение $AB$ определено, размерность результирующей матрицы $2\\times 3$.<br>\n",
    "Произведение $BA$ не определено."
   ]
  },
  {
   "cell_type": "markdown",
   "metadata": {},
   "source": [
    "в) $A$ — матрица $8\\times 3$, $B$ — матрица $3\\times 8$; - здесь произведение $AB$ определено, размерность результирующей матрицы $8\\times 8$.<br>\n",
    "произведение $BA$ определено, размерность результирующей матрицы $3\\times 3$.<br>"
   ]
  },
  {
   "cell_type": "markdown",
   "metadata": {},
   "source": [
    "г) $A$ — квадратная матрица $4\\times 4$, $B$ — квадратная матрица $4\\times 4$. - здесь произведения $AB$ и $BA$ определены, размерность результирующих матриц $4\\times 4$.<br>"
   ]
  },
  {
   "cell_type": "markdown",
   "metadata": {},
   "source": [
    "__2.__ Найти сумму и произведение матриц $A=\\begin{pmatrix}\n",
    "1 & -2\\\\ \n",
    "3 & 0\n",
    "\\end{pmatrix}$ и $B=\\begin{pmatrix}\n",
    "4 & -1\\\\ \n",
    "0 & 5\n",
    "\\end{pmatrix}.$"
   ]
  },
  {
   "cell_type": "code",
   "execution_count": 3,
   "metadata": {},
   "outputs": [],
   "source": [
    "def print_matrix(m: list):\n",
    "    for i in range(len(m)):\n",
    "        print(m[i])\n",
    "\n",
    "#функция для сложения матриц\n",
    "def matrix_sum(m1: list, m2: list):\n",
    "    if (len(m1) != len(m2)) or (len(m1[0]) != len(m2[0])):\n",
    "        print(\"Сумма не опредеоена: разные матрицы\")\n",
    "        return\n",
    "    ms = [[0 for _ in range(len(m1[0]))] for _ in range(len(m1))]\n",
    "    for i in range(len(m1)):\n",
    "        for j in range(len(m1[0])):\n",
    "            ms[i][j] = m1[i][j] + m2[i][j]\n",
    "    return ms\n",
    "\n",
    "# функция умножения матрицы на число\n",
    "def matrix_dig_mult(a: list, d):\n",
    "    ad = [[0 for _ in range(len(a[0]))] for _ in range(len(a))]\n",
    "    for i in range(len(a)):\n",
    "        for j in range(len(a[0])):\n",
    "            ad[i][j] = a[i][j] * d\n",
    "    return ad\n",
    "\n",
    "# функция для умножения матриц\n",
    "def matrix_mult(a1: list, a2: list):\n",
    "    if len(a1[0]) != len(a2):\n",
    "        print(\"Произведение не определено\")\n",
    "        return\n",
    "    m = len(a1)\n",
    "    n = len(a2)\n",
    "    k = len(a2[0])\n",
    "    amult = [[0 for _ in range(k)] for _ in range(m)]\n",
    "    for p in range(k):\n",
    "        for i in range(m):\n",
    "            for j in range(n):\n",
    "                amult[i][p] += a1[i][j] * a2[j][p]\n",
    "    return amult\n",
    "\n",
    "# функция для транспонирования матрицы\n",
    "def matrix_transp(a: list):\n",
    "    at = [[0 for _ in range(len(a))] for _ in range(len(a[0]))]\n",
    "    for i in range(len(a)):\n",
    "        for j in range(len(a[0])):\n",
    "            at[j][i] = a[i][j]\n",
    "    return at\n",
    "            "
   ]
  },
  {
   "cell_type": "code",
   "execution_count": 4,
   "metadata": {},
   "outputs": [
    {
     "name": "stdout",
     "output_type": "stream",
     "text": [
      "[5, -3]\n",
      "[3, 5]\n"
     ]
    }
   ],
   "source": [
    "m1 = [[1, -2], \n",
    "      [3, 0]]\n",
    "m2 = [[4, -1], \n",
    "      [0, 5]]\n",
    "print_matrix(matrix_sum(m1, m2))"
   ]
  },
  {
   "cell_type": "code",
   "execution_count": 5,
   "metadata": {},
   "outputs": [
    {
     "name": "stdout",
     "output_type": "stream",
     "text": [
      "[4, -11]\n",
      "[12, -3]\n"
     ]
    }
   ],
   "source": [
    "print_matrix(matrix_mult(m1, m2))"
   ]
  },
  {
   "cell_type": "code",
   "execution_count": 6,
   "metadata": {},
   "outputs": [
    {
     "data": {
      "text/plain": [
       "array([[  4, -11],\n",
       "       [ 12,  -3]])"
      ]
     },
     "execution_count": 6,
     "metadata": {},
     "output_type": "execute_result"
    }
   ],
   "source": [
    "#проверим в numpy\n",
    "import numpy as np\n",
    "a1 = np.array(m1)\n",
    "a2 = np.array(m2)\n",
    "np.dot(a1, a2)"
   ]
  },
  {
   "cell_type": "markdown",
   "metadata": {},
   "source": [
    "__3.__ Из закономерностей сложения и умножения матриц на число можно сделать вывод, что матрицы одного размера образуют линейное пространство. Вычислить линейную комбинацию $3A-2B+4C$ для матриц $A=\\begin{pmatrix}\n",
    "1 & 7\\\\ \n",
    "3 & -6\n",
    "\\end{pmatrix}$, $B=\\begin{pmatrix}\n",
    "0 & 5\\\\ \n",
    "2 & -1\n",
    "\\end{pmatrix}$, $C=\\begin{pmatrix}\n",
    "2 & -4\\\\ \n",
    "1 & 1\n",
    "\\end{pmatrix}.$"
   ]
  },
  {
   "cell_type": "code",
   "execution_count": 12,
   "metadata": {},
   "outputs": [],
   "source": [
    "a = [[1, 7],\n",
    "     [3, -6]]\n",
    "b = [[0, 5],\n",
    "    [2, -1]]\n",
    "c = [[2, -4],\n",
    "    [1, 1]]"
   ]
  },
  {
   "cell_type": "code",
   "execution_count": 13,
   "metadata": {},
   "outputs": [],
   "source": [
    "a3 = matrix_dig_mult(a, 3)\n",
    "#здесь умножается сразу на -2\n",
    "b2 = matrix_dig_mult(b, -2)\n",
    "c4 = matrix_dig_mult(c, 4)"
   ]
  },
  {
   "cell_type": "code",
   "execution_count": 15,
   "metadata": {},
   "outputs": [
    {
     "name": "stdout",
     "output_type": "stream",
     "text": [
      "[11, -5]\n",
      "[9, -12]\n"
     ]
    }
   ],
   "source": [
    "line_comb = matrix_sum(a3, matrix_sum(b2, c4))\n",
    "print_matrix(line_comb)"
   ]
  },
  {
   "cell_type": "code",
   "execution_count": 17,
   "metadata": {},
   "outputs": [
    {
     "name": "stdout",
     "output_type": "stream",
     "text": [
      "[[ 11  -5]\n",
      " [  9 -12]]\n"
     ]
    }
   ],
   "source": [
    "#проверим в numpy\n",
    "aa = np.array(a)\n",
    "bb = np.array(b)\n",
    "cc = np.array(c)\n",
    "line_comb1 = 3 * aa - 2 * bb + 4 * cc\n",
    "print(line_comb1)"
   ]
  },
  {
   "cell_type": "markdown",
   "metadata": {},
   "source": [
    "__4.__ Дана матрица $A=\\begin{pmatrix}\n",
    "4 & 1\\\\ \n",
    "5 & -2\\\\ \n",
    "2 & 3\n",
    "\\end{pmatrix}$.\n",
    "Вычислить $AA^{T}$ и $A^{T}A$."
   ]
  },
  {
   "cell_type": "code",
   "execution_count": 22,
   "metadata": {},
   "outputs": [
    {
     "name": "stdout",
     "output_type": "stream",
     "text": [
      "[4, 5, 2]\n",
      "[1, -2, 3]\n"
     ]
    }
   ],
   "source": [
    "A = [[4, 1], \n",
    "     [5, -2], \n",
    "     [2, 3]]\n",
    "AT = matrix_transp(A)\n",
    "print_matrix(AT)"
   ]
  },
  {
   "cell_type": "code",
   "execution_count": 23,
   "metadata": {},
   "outputs": [
    {
     "name": "stdout",
     "output_type": "stream",
     "text": [
      "[17, 18, 11]\n",
      "[18, 29, 4]\n",
      "[11, 4, 13]\n"
     ]
    }
   ],
   "source": [
    "AAT = matrix_mult(A, AT)\n",
    "print_matrix(AAT)"
   ]
  },
  {
   "cell_type": "code",
   "execution_count": 27,
   "metadata": {},
   "outputs": [
    {
     "name": "stdout",
     "output_type": "stream",
     "text": [
      "[45, 0]\n",
      "[0, 14]\n"
     ]
    }
   ],
   "source": [
    "ATA = matrix_mult(AT, A)\n",
    "print_matrix(ATA) "
   ]
  },
  {
   "cell_type": "code",
   "execution_count": 29,
   "metadata": {},
   "outputs": [
    {
     "data": {
      "text/plain": [
       "array([[ 4,  1],\n",
       "       [ 5, -2],\n",
       "       [ 2,  3]])"
      ]
     },
     "execution_count": 29,
     "metadata": {},
     "output_type": "execute_result"
    }
   ],
   "source": [
    "#проверим вnumpy\n",
    "AA = np.array(A)\n",
    "AA"
   ]
  },
  {
   "cell_type": "code",
   "execution_count": 30,
   "metadata": {},
   "outputs": [
    {
     "data": {
      "text/plain": [
       "array([[ 4,  5,  2],\n",
       "       [ 1, -2,  3]])"
      ]
     },
     "execution_count": 30,
     "metadata": {},
     "output_type": "execute_result"
    }
   ],
   "source": [
    "AA.T"
   ]
  },
  {
   "cell_type": "code",
   "execution_count": 31,
   "metadata": {},
   "outputs": [
    {
     "data": {
      "text/plain": [
       "array([[17, 18, 11],\n",
       "       [18, 29,  4],\n",
       "       [11,  4, 13]])"
      ]
     },
     "execution_count": 31,
     "metadata": {},
     "output_type": "execute_result"
    }
   ],
   "source": [
    "np.dot(AA, AA.T)"
   ]
  },
  {
   "cell_type": "code",
   "execution_count": 32,
   "metadata": {},
   "outputs": [
    {
     "data": {
      "text/plain": [
       "array([[45,  0],\n",
       "       [ 0, 14]])"
      ]
     },
     "execution_count": 32,
     "metadata": {},
     "output_type": "execute_result"
    }
   ],
   "source": [
    "np.dot(AA.T, AA)"
   ]
  },
  {
   "cell_type": "markdown",
   "metadata": {},
   "source": [
    "5*. Написать на Python функцию для перемножения двух произвольных матриц, не используя NumPy."
   ]
  },
  {
   "cell_type": "markdown",
   "metadata": {},
   "source": [
    "Функция для умножения матриц<br>\n",
    "def matrix_mult(a1: list, a2: list) - определена выше"
   ]
  },
  {
   "cell_type": "code",
   "execution_count": 34,
   "metadata": {},
   "outputs": [],
   "source": [
    "#функции для вычисления определителя (не хочется считать)\n",
    "# вычеркиваем i-тую строку и  j-тый столбец\n",
    "def matrix_low(a: list, ii: int, jj: int):\n",
    "    n = len(a)\n",
    "    al = [[0 for _ in range(n - 1)] for _ in range(n - 1)]\n",
    "    k = 0\n",
    "    for i in range(n):\n",
    "        if i == ii:\n",
    "            continue\n",
    "        p = 0\n",
    "        for j in range(n):\n",
    "            if j == jj:\n",
    "                continue\n",
    "            al[k][p] = a[i][j]\n",
    "            p += 1\n",
    "        k += 1\n",
    "    return al\n",
    "\n",
    "\n",
    "# определитепль\n",
    "def det(a: list):\n",
    "    if len(a) == 2:\n",
    "        return (a[0][0] * a[1][1]) - (a[0][1] * a[1][0])\n",
    "    d = 0\n",
    "    for j in range(len(a)):\n",
    "        d += (-1)**(0 + j) * det(matrix_low(a, 0, j)) * a[0][j]\n",
    "    return d"
   ]
  },
  {
   "cell_type": "markdown",
   "metadata": {},
   "source": [
    "__1.__ Вычислить определитель:\n",
    "\n",
    "   a)\n",
    "\n",
    "$$\\begin{vmatrix}\n",
    "sinx & -cosx\\\\ \n",
    "cosx & sinx\n",
    "\\end{vmatrix};$$\n",
    "\n",
    "   б)\n",
    "    \n",
    "$$\\begin{vmatrix}\n",
    "4 & 2 & 3\\\\ \n",
    "0 & 5 & 1\\\\ \n",
    "0 & 0 & 9\n",
    "\\end{vmatrix};$$\n",
    "    \n",
    "   в)\n",
    "\n",
    "$$\\begin{vmatrix}\n",
    "1 & 2 & 3\\\\ \n",
    "4 & 5 & 6\\\\ \n",
    "7 & 8 & 9\n",
    "\\end{vmatrix}.$$"
   ]
  },
  {
   "cell_type": "markdown",
   "metadata": {},
   "source": [
    "a) в первом случае определитель раве 1"
   ]
  },
  {
   "cell_type": "markdown",
   "metadata": {},
   "source": [
    "б) во втором случае определитель равен произведению элементов на главной диагонали = 180 (треугольная матрица)"
   ]
  },
  {
   "cell_type": "code",
   "execution_count": 38,
   "metadata": {},
   "outputs": [
    {
     "name": "stdout",
     "output_type": "stream",
     "text": [
      "0\n"
     ]
    }
   ],
   "source": [
    "# в) здесь посчитаем\n",
    "a = [[1, 2, 3],\n",
    "    [4, 5, 6],\n",
    "    [7, 8, 9]]\n",
    "deta = det(a)\n",
    "print(deta)"
   ]
  },
  {
   "cell_type": "code",
   "execution_count": 39,
   "metadata": {},
   "outputs": [
    {
     "data": {
      "text/plain": [
       "-9.51619735392994e-16"
      ]
     },
     "execution_count": 39,
     "metadata": {},
     "output_type": "execute_result"
    }
   ],
   "source": [
    "#проверим в numpy \n",
    "aa = np.array(a)\n",
    "np.linalg.det(aa)"
   ]
  },
  {
   "cell_type": "markdown",
   "metadata": {},
   "source": [
    "__2.__ Определитель матрицы $A$ равен $4$. Найти:\n",
    "\n",
    "   а) $det(A^{2})$;\n",
    "    \n",
    "   б) $det(A^{T})$;\n",
    "    \n",
    "   в) $det(2A)$."
   ]
  },
  {
   "cell_type": "markdown",
   "metadata": {},
   "source": [
    "Учитывая следующие свойства определителя\n",
    "\n",
    "__1.__ Определитель транспонированной матрицы равен определителю исходной:\n",
    "\n",
    "$$detA^{T}=detA.$$\n",
    "\n",
    "__2.__ Для двух квадратных матриц одинакового размера\n",
    "\n",
    "$$det(AB)=detA\\cdot detB.$$\n",
    "\n",
    "__3.__ Если квадратная матрица $A$ $n\\times n$ n-го порядка умножается на некоторое ненулевое число $λ$, то определитель полученной матрицы равен произведению определителя исходной матрицы $A$ на число $λ$ в степени, равной порядку матрицы<br>\n",
    "$|λ \\cdot A| = λ^{n}\\cdot |A|$\n"
   ]
  },
  {
   "cell_type": "markdown",
   "metadata": {},
   "source": [
    "a) в первом случае определитель = 16"
   ]
  },
  {
   "cell_type": "markdown",
   "metadata": {},
   "source": [
    "б) в втором случае определитель = 4"
   ]
  },
  {
   "cell_type": "markdown",
   "metadata": {},
   "source": [
    "в) в третьем случае определитель = $2^{n}\\cdot 4, n-$ порядок матрицы, "
   ]
  },
  {
   "cell_type": "markdown",
   "metadata": {},
   "source": [
    "__3.__  Доказать, что матрица\n",
    "\n",
    "$$\\begin{pmatrix}\n",
    "-2 & 7 & -3\\\\ \n",
    "4 & -14 & 6\\\\ \n",
    "-3 & 7 & 13\n",
    "\\end{pmatrix}$$\n",
    "   \n",
    "вырожденная.\n"
   ]
  },
  {
   "cell_type": "markdown",
   "metadata": {},
   "source": [
    "Матрица - вырожденная, если её определитель равен 0<br>\n",
    "В данном случае 1 и 2 строка матрицы являются линейно зависимыми<br>\n",
    "$-2\\cdot\\begin{pmatrix}\n",
    "-2 & 7 & -3\\end{pmatrix} = \\begin{pmatrix}\n",
    "4 & -14 & 6\\end{pmatrix}$<br>\n",
    "Если строки в матрице линейно зависимы, то её определитель равен 0, значит эта матрица вырожденная."
   ]
  },
  {
   "cell_type": "markdown",
   "metadata": {},
   "source": [
    "__4.__ Найти ранг матрицы:\n",
    "\n",
    "   а) $\\begin{pmatrix}\n",
    "1 & 2 & 3\\\\ \n",
    "1 & 1 & 1\\\\ \n",
    "2 & 3 & 4\n",
    "\\end{pmatrix};$\n",
    "\n",
    "   б) $\\begin{pmatrix}\n",
    "0 & 0 & 2 & 1\\\\ \n",
    "0 & 0 & 2 & 2\\\\ \n",
    "0 & 0 & 4 & 3\\\\ \n",
    "2 & 3 & 5 & 6\n",
    "\\end{pmatrix}.$"
   ]
  },
  {
   "cell_type": "markdown",
   "metadata": {},
   "source": [
    "а) матрице $\\begin{pmatrix}\n",
    "1 & 2 & 3\\\\ \n",
    "1 & 1 & 1\\\\ \n",
    "2 & 3 & 4\n",
    "\\end{pmatrix}$<br>\n",
    "3-я строка является суммой первой и второй строк её можно вычеркнуть и тогда останется<br>\n",
    "$\\begin{pmatrix}\n",
    "1 & 2 & 3\\\\ \n",
    "1 & 1 & 1\n",
    "\\end{pmatrix}$<br>\n",
    "далее вычесть вторую строку из первой, получится $\\begin{pmatrix}\n",
    "0 & 1 & 2\\\\ \n",
    "1 & 1 & 1\n",
    "\\end{pmatrix}$ - здесь ранг равен 2<br>"
   ]
  },
  {
   "cell_type": "markdown",
   "metadata": {},
   "source": [
    " б) в матрице $\\begin{pmatrix}\n",
    "0 & 0 & 2 & 1\\\\ \n",
    "0 & 0 & 2 & 2\\\\ \n",
    "0 & 0 & 4 & 3\\\\ \n",
    "2 & 3 & 5 & 6\n",
    "\\end{pmatrix}$ третья строка равна сумме первой и второй строки, её можно вычеркнуть,<br>\n",
    "останется\n",
    "$\\begin{pmatrix}\n",
    "0 & 0 & 2 & 1\\\\ \n",
    "0 & 0 & 2 & 2\\\\ \n",
    "2 & 3 & 5 & 6\n",
    "\\end{pmatrix}$\n",
    "здесь ранг равен 3"
   ]
  },
  {
   "cell_type": "code",
   "execution_count": null,
   "metadata": {},
   "outputs": [],
   "source": []
  }
 ],
 "metadata": {
  "kernelspec": {
   "display_name": "Python 3",
   "language": "python",
   "name": "python3"
  },
  "language_info": {
   "codemirror_mode": {
    "name": "ipython",
    "version": 3
   },
   "file_extension": ".py",
   "mimetype": "text/x-python",
   "name": "python",
   "nbconvert_exporter": "python",
   "pygments_lexer": "ipython3",
   "version": "3.8.3"
  }
 },
 "nbformat": 4,
 "nbformat_minor": 4
}
